{
 "cells": [
  {
   "cell_type": "code",
   "execution_count": null,
   "id": "e2b049bd-8741-42ca-a613-a4b81ecbb9e0",
   "metadata": {},
   "outputs": [],
   "source": [
    "import os\n",
    "os.getcwd()"
   ]
  },
  {
   "cell_type": "code",
   "execution_count": null,
   "id": "de36038b-fe92-42e5-bbfa-ac7167ad4214",
   "metadata": {},
   "outputs": [],
   "source": [
    "cd .."
   ]
  },
  {
   "cell_type": "code",
   "execution_count": null,
   "id": "06039ace-6d78-4cd0-86ee-914f3179dcbb",
   "metadata": {},
   "outputs": [],
   "source": [
    "import pandas as pd\n",
    "import numpy as np\n",
    "from scipy.stats import zscore\n",
    "from sklearn.preprocessing import StandardScaler\n",
    "from src.preprocess_utils import drop_outliers, scale_variables\n",
    "from src.constants import TARGETS, SD, ID\n",
    "import matplotlib.pyplot as plt\n",
    "from scipy.stats import pearsonr, spearmanr, zscore, normaltest\n",
    "import matplotlib\n",
    "pd.set_option('display.float_format', lambda x: '%.3f' % x)"
   ]
  },
  {
   "cell_type": "code",
   "execution_count": null,
   "id": "ce91ffb1-4a2b-4f2d-9764-beb1b4199356",
   "metadata": {},
   "outputs": [],
   "source": [
    "def magnitude(x):\n",
    "    return np.sign(x)* 10**int(np.log10(np.abs(x)))"
   ]
  },
  {
   "cell_type": "code",
   "execution_count": null,
   "id": "be382e0f-5568-41a8-acea-e1e65dd5b9ba",
   "metadata": {},
   "outputs": [],
   "source": [
    "train_df = pd.read_csv('data/planttraits2024/train.csv')\n",
    "test_df = pd.read_csv('data/planttraits2024/test.csv')"
   ]
  },
  {
   "cell_type": "code",
   "execution_count": null,
   "id": "66872cf0-7ae3-43dc-81de-33f4600da734",
   "metadata": {},
   "outputs": [],
   "source": [
    "variables = train_df.columns[~train_df.columns.isin(TARGETS+SD+[ID])]"
   ]
  },
  {
   "cell_type": "code",
   "execution_count": null,
   "id": "165f4990-aa96-4cbd-933c-45378974bd88",
   "metadata": {},
   "outputs": [],
   "source": [
    "meta_variables = variables.str.split('_').str[:2].str.join(\"_\").unique()"
   ]
  },
  {
   "cell_type": "code",
   "execution_count": null,
   "id": "d8325af9-e76e-4de9-ab48-bcaca03f1fe7",
   "metadata": {},
   "outputs": [],
   "source": [
    "target_name_meta = pd.read_csv('data/planttraits2024/target_name_meta.tsv', delimiter='\\t')\n",
    "target_name_meta['trait_ID'] = target_name_meta['trait_ID'] + '_mean'\n",
    "target_name_meta = target_name_meta.set_index('trait_ID').squeeze().to_dict()"
   ]
  },
  {
   "cell_type": "code",
   "execution_count": null,
   "id": "602fbb63-0db4-4d8d-856d-e8cf0ee2f749",
   "metadata": {},
   "outputs": [],
   "source": [
    "train_df[TARGETS].apply(np.log)"
   ]
  },
  {
   "cell_type": "code",
   "execution_count": null,
   "id": "39128487-f470-4758-b4fc-306a97014a55",
   "metadata": {},
   "outputs": [],
   "source": [
    "train_df[TARGETS].apply(normaltest, axis=0)"
   ]
  },
  {
   "cell_type": "code",
   "execution_count": null,
   "id": "54ce1229-e1f1-4bc7-a3fa-96c06425737f",
   "metadata": {},
   "outputs": [],
   "source": [
    "train_df[TARGETS].apply(np.log).apply(normaltest, axis=0)"
   ]
  },
  {
   "cell_type": "code",
   "execution_count": null,
   "id": "4628de78-106f-48ef-a699-44a86bd142ee",
   "metadata": {},
   "outputs": [],
   "source": [
    "train_zscore = train_df.apply(zscore, axis=0)\n",
    "train_df"
   ]
  },
  {
   "cell_type": "code",
   "execution_count": null,
   "id": "7164cc6d-5db2-4b15-b99b-77ec0f4b7647",
   "metadata": {},
   "outputs": [],
   "source": [
    "target_name_meta"
   ]
  },
  {
   "cell_type": "code",
   "execution_count": null,
   "id": "727401f3-db7f-47f6-9329-32ba2ebb04b9",
   "metadata": {},
   "outputs": [],
   "source": [
    "train_df[train_df.X4_mean < 0].to_csv('csv.csv')"
   ]
  },
  {
   "cell_type": "code",
   "execution_count": null,
   "id": "9a946947-6777-4870-926d-53df3e9a12f0",
   "metadata": {},
   "outputs": [],
   "source": [
    "magnitude_counts = train_df[TARGETS].map(magnitude, na_action='ignore').apply(pd.value_counts)\n",
    "magnitude_counts\n"
   ]
  },
  {
   "cell_type": "code",
   "execution_count": null,
   "id": "e2d0298b-2a03-418d-9ae4-ffe362e0598f",
   "metadata": {},
   "outputs": [],
   "source": [
    "magnitude_counts.map(np.log)"
   ]
  },
  {
   "cell_type": "code",
   "execution_count": null,
   "id": "df410131-aed5-4fa4-9fe3-0befb5015121",
   "metadata": {},
   "outputs": [],
   "source": [
    "magnitude_ranges = {\"X4_mean\": (1e-5, 1e1),\n",
    "                    \"X11_mean\": (1e-1, 1e2),\n",
    "                    \"X18_mean\": (1e-2, 1e2),\n",
    "                    \"X26_mean\": (1e-2, 1e4),\n",
    "                    \"X50_mean\": (1e-1, 1e2),\n",
    "                    \"X3112_mean\": (1e0, 1e5)\n",
    "                    }\n",
    "magnitude_mask = train_df[TARGETS].apply(lambda x: (x > magnitude_ranges[x.name][0]) & (x < magnitude_ranges[x.name][1]), axis=0)"
   ]
  },
  {
   "cell_type": "code",
   "execution_count": 50,
   "id": "63e6aeaf-5994-433c-af33-af3cb908b7da",
   "metadata": {},
   "outputs": [],
   "source": [
    "(~magnitude_mask).sum(axis=1).value_counts()\n",
    "wo_magnitude_outliers = train_df[~(~magnitude_mask).any(axis=1)]"
   ]
  },
  {
   "cell_type": "code",
   "execution_count": null,
   "id": "0e94ce22-c1fc-4ffc-b8ff-06ca409d3066",
   "metadata": {},
   "outputs": [],
   "source": [
    "matplotlib.rcParams['figure.figsize'] = [20, 8]\n",
    "\n",
    "for target in TARGETS:\n",
    "    fig, ax = plt.subplots(1, 2)\n",
    "    fig.suptitle(target)\n",
    "    # ax.set_yscale('log')\n",
    "    magnitude_counts[target].plot(kind='bar', ax=ax[0])\n",
    "    magnitude_counts[target].apply(np.log).plot(kind='bar', ax=ax[1])\n",
    "    plt.tight_layout()"
   ]
  },
  {
   "cell_type": "code",
   "execution_count": null,
   "id": "00212dfa-f810-4bea-a3c8-d018ce1aea80",
   "metadata": {},
   "outputs": [],
   "source": []
  },
  {
   "cell_type": "code",
   "execution_count": null,
   "id": "ce792a12-2750-47fc-9ea0-edbef180ca08",
   "metadata": {},
   "outputs": [],
   "source": [
    "new_df = train_df[train_df.X4_mean<0]\n",
    "new_df['num outliers'] = (train_zscore[train_df.X4_mean<0].abs()>2.5).sum(axis=1)\n",
    "new_df.to_csv('csv.csv')"
   ]
  },
  {
   "cell_type": "code",
   "execution_count": null,
   "id": "8b996c35-e3d4-46bf-bea8-0408e33b9e1b",
   "metadata": {},
   "outputs": [],
   "source": [
    "\n",
    "\n",
    "z = 3\n",
    "wo_outliers_train_df, outliers = drop_outliers(train_df, z)"
   ]
  },
  {
   "cell_type": "code",
   "execution_count": null,
   "id": "076631da-a980-49a6-9647-21a950f17214",
   "metadata": {},
   "outputs": [],
   "source": [
    "wo_outliers_train_df[TARGETS].apply(np.log).apply(normaltest, axis=0)"
   ]
  },
  {
   "cell_type": "code",
   "execution_count": null,
   "id": "3831bd7f-6926-41b0-a902-be7d581f34c0",
   "metadata": {},
   "outputs": [],
   "source": [
    "bins = 250"
   ]
  },
  {
   "cell_type": "code",
   "execution_count": null,
   "id": "cca4e112-0b06-48e6-ab52-595e3c70113c",
   "metadata": {},
   "outputs": [],
   "source": [
    "target = \n",
    "\n",
    "fig, ax = plt.subplots(5, 2)\n",
    "fig.suptitle(target)\n",
    "# ax.set_yscale('log')\n",
    "train_df[target].hist(ax=ax[0,0], bins=bins)\n",
    "train_df[target].apply(np.log).hist(ax=ax[0, 1], bins=bins)\n",
    "   \n",
    "\n",
    "# ax.set_yscale('log')\n",
    "train_df[target].hist(ax=ax[1, 0], bins=bins, log=True)\n",
    "train_df[target].apply(np.log).hist(ax=ax[1, 1], bins=bins, log=True)\n",
    "\n",
    "\n",
    "# ax.set_yscale('log')\n",
    "wo_outliers_train_df[target].hist(ax=ax[2, 0], bins=bins)\n",
    "wo_outliers_train_df[target].apply(np.log).hist(ax=ax[2, 1],bins=bins)\n",
    "\n",
    "\n",
    "# ax.set_yscale('log')\n",
    "wo_outliers_train_df[target].hist(ax=ax[3, 0], bins=bins, log=True)\n",
    "wo_outliers_train_df[target].apply(np.log).hist(ax=ax[3, 1],bins=bins, log=True)\n",
    "\n",
    "\n",
    "\n",
    "# ax.set_yscale('log')\n",
    "wo_outliers_train_df[target].hist(ax=ax[4, 0], bins=bins, log=True)\n",
    "wo_outliers_train_df[target].apply(np.log).hist(ax=ax[4, 1],bins=bins, log=True)\n",
    "\n",
    "\n",
    "wo_magnitude_outliers[target].hist(ax=ax[5, 0], bins=bins, log=True)\n",
    "wo_magnitude_outliers[target].apply(np.log).hist(ax=ax[5, 1],bins=bins, log=True)\n"
   ]
  },
  {
   "cell_type": "code",
   "execution_count": null,
   "id": "f15e5864-29b4-44b8-acf1-dd3adb7b6e22",
   "metadata": {},
   "outputs": [],
   "source": [
    "for target in TARGETS:\n",
    "    fig, ax = plt.subplots(1, 2)\n",
    "    fig.suptitle(target)\n",
    "    # ax.set_yscale('log')\n",
    "    train_df[target].hist(ax=ax[0], bins=bins)\n",
    "    train_df[target].apply(np.log).hist(ax=ax[1], bins=bins)\n",
    "    plt.tight_layout()\n",
    "    "
   ]
  },
  {
   "cell_type": "code",
   "execution_count": null,
   "id": "92be38ba-a584-485d-af0f-ff1846508a06",
   "metadata": {},
   "outputs": [],
   "source": [
    "for target in TARGETS:\n",
    "    fig, ax = plt.subplots(1, 2)\n",
    "    fig.suptitle(target)\n",
    "    # ax.set_yscale('log')\n",
    "    train_df[target].hist(ax=ax[0], bins=bins, log=True)\n",
    "    train_df[target].apply(np.log).hist(ax=ax[1], bins=bins, log=True)\n",
    "    plt.tight_layout()\n",
    "\n"
   ]
  },
  {
   "cell_type": "code",
   "execution_count": null,
   "id": "32bd4e2c-a6fb-4769-a566-20b3fc0797f0",
   "metadata": {},
   "outputs": [],
   "source": [
    "for target in TARGETS:\n",
    "    fig, ax = plt.subplots(1, 2)\n",
    "    fig.suptitle(target)\n",
    "    # ax.set_yscale('log')\n",
    "    wo_outliers_train_df[target].hist(ax=ax[0], bins=bins)\n",
    "    wo_outliers_train_df[target].apply(np.log).hist(ax=ax[1],bins=bins)\n",
    "    plt.tight_layout()"
   ]
  },
  {
   "cell_type": "code",
   "execution_count": null,
   "id": "a9ab149a-1037-46b9-ae8c-5c31d770d0b5",
   "metadata": {},
   "outputs": [],
   "source": [
    "for target in TARGETS:\n",
    "    fig, ax = plt.subplots(1, 2)\n",
    "    fig.suptitle(target)\n",
    "    # ax.set_yscale('log')\n",
    "    wo_outliers_train_df[target].hist(ax=ax[0], bins=bins, log=True)\n",
    "    wo_outliers_train_df[target].apply(np.log).hist(ax=ax[1],bins=bins, log=True)\n",
    "    plt.tight_layout()"
   ]
  }
 ],
 "metadata": {
  "kernelspec": {
   "display_name": "Python 3 (ipykernel)",
   "language": "python",
   "name": "python3"
  },
  "language_info": {
   "codemirror_mode": {
    "name": "ipython",
    "version": 3
   },
   "file_extension": ".py",
   "mimetype": "text/x-python",
   "name": "python",
   "nbconvert_exporter": "python",
   "pygments_lexer": "ipython3",
   "version": "3.10.12"
  }
 },
 "nbformat": 4,
 "nbformat_minor": 5
}
